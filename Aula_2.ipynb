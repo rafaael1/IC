{
 "cells": [
  {
   "cell_type": "markdown",
   "metadata": {},
   "source": [
    "# INTELIGÊNCIA COMPUTACIONAL"
   ]
  },
  {
   "cell_type": "markdown",
   "metadata": {},
   "source": [
    "### Aula 2 - Framework Pandas"
   ]
  },
  {
   "cell_type": "code",
   "execution_count": 1,
   "metadata": {},
   "outputs": [],
   "source": [
    "import pandas as pd"
   ]
  },
  {
   "cell_type": "code",
   "execution_count": 2,
   "metadata": {},
   "outputs": [],
   "source": [
    "step_data = [3620,7891,9761,3907,4330,5773]"
   ]
  },
  {
   "cell_type": "code",
   "execution_count": 3,
   "metadata": {},
   "outputs": [],
   "source": [
    "step_counts = pd.Series(step_data, name = 'steps')"
   ]
  },
  {
   "cell_type": "code",
   "execution_count": 4,
   "metadata": {},
   "outputs": [
    {
     "name": "stdout",
     "output_type": "stream",
     "text": [
      "0    3620\n",
      "1    7891\n",
      "2    9761\n",
      "3    3907\n",
      "4    4330\n",
      "5    5773\n",
      "Name: steps, dtype: int64\n"
     ]
    }
   ],
   "source": [
    "print(step_counts)"
   ]
  },
  {
   "cell_type": "code",
   "execution_count": 5,
   "metadata": {},
   "outputs": [],
   "source": [
    "step_counts.index = pd.date_range('20150329', periods = 6)"
   ]
  },
  {
   "cell_type": "code",
   "execution_count": 6,
   "metadata": {},
   "outputs": [
    {
     "name": "stdout",
     "output_type": "stream",
     "text": [
      "2015-03-29    3620\n",
      "2015-03-30    7891\n",
      "2015-03-31    9761\n",
      "2015-04-01    3907\n",
      "2015-04-02    4330\n",
      "2015-04-03    5773\n",
      "Freq: D, Name: steps, dtype: int64\n"
     ]
    }
   ],
   "source": [
    "print(step_counts)"
   ]
  },
  {
   "cell_type": "code",
   "execution_count": 7,
   "metadata": {},
   "outputs": [
    {
     "data": {
      "text/plain": [
       "2015-03-30    7891\n",
       "2015-03-31    9761\n",
       "2015-04-01    3907\n",
       "Freq: D, Name: steps, dtype: int64"
      ]
     },
     "execution_count": 7,
     "metadata": {},
     "output_type": "execute_result"
    }
   ],
   "source": [
    "step_counts[1:4]"
   ]
  },
  {
   "cell_type": "code",
   "execution_count": 8,
   "metadata": {},
   "outputs": [],
   "source": [
    "cycling_data = (10.7, 0, None, 2.4, 15.3, 10.9, 0, None)"
   ]
  },
  {
   "cell_type": "code",
   "execution_count": 9,
   "metadata": {},
   "outputs": [
    {
     "name": "stdout",
     "output_type": "stream",
     "text": [
      "(10.7, 0, None, 2.4, 15.3, 10.9, 0, None)\n"
     ]
    }
   ],
   "source": [
    "print(cycling_data)"
   ]
  },
  {
   "cell_type": "code",
   "execution_count": 10,
   "metadata": {},
   "outputs": [],
   "source": [
    "joined_data = list(zip(step_data, cycling_data))"
   ]
  },
  {
   "cell_type": "code",
   "execution_count": 11,
   "metadata": {},
   "outputs": [
    {
     "name": "stdout",
     "output_type": "stream",
     "text": [
      "[(3620, 10.7), (7891, 0), (9761, None), (3907, 2.4), (4330, 15.3), (5773, 10.9)]\n"
     ]
    }
   ],
   "source": [
    "print(joined_data)"
   ]
  },
  {
   "cell_type": "code",
   "execution_count": 12,
   "metadata": {},
   "outputs": [],
   "source": [
    "activity_df = pd.DataFrame(joined_data)"
   ]
  },
  {
   "cell_type": "code",
   "execution_count": 13,
   "metadata": {},
   "outputs": [
    {
     "name": "stdout",
     "output_type": "stream",
     "text": [
      "      0     1\n",
      "0  3620  10.7\n",
      "1  7891   0.0\n",
      "2  9761   NaN\n",
      "3  3907   2.4\n",
      "4  4330  15.3\n",
      "5  5773  10.9\n"
     ]
    }
   ],
   "source": [
    "print(activity_df)"
   ]
  },
  {
   "cell_type": "code",
   "execution_count": 14,
   "metadata": {},
   "outputs": [],
   "source": [
    "activity_df = pd.DataFrame(joined_data,\n",
    "                          index = pd.date_range('20150329', periods = 6),\n",
    "                          columns = ['Walking', 'Cycling'])"
   ]
  },
  {
   "cell_type": "code",
   "execution_count": 15,
   "metadata": {},
   "outputs": [
    {
     "name": "stdout",
     "output_type": "stream",
     "text": [
      "            Walking  Cycling\n",
      "2015-03-29     3620     10.7\n",
      "2015-03-30     7891      0.0\n",
      "2015-03-31     9761      NaN\n",
      "2015-04-01     3907      2.4\n",
      "2015-04-02     4330     15.3\n",
      "2015-04-03     5773     10.9\n"
     ]
    }
   ],
   "source": [
    "print(activity_df)"
   ]
  },
  {
   "cell_type": "code",
   "execution_count": 16,
   "metadata": {},
   "outputs": [
    {
     "name": "stdout",
     "output_type": "stream",
     "text": [
      "Walking    3620.0\n",
      "Cycling      10.7\n",
      "Name: 2015-03-29 00:00:00, dtype: float64\n"
     ]
    }
   ],
   "source": [
    "print(activity_df.loc['2015-03-29'])"
   ]
  },
  {
   "cell_type": "code",
   "execution_count": 17,
   "metadata": {},
   "outputs": [
    {
     "name": "stdout",
     "output_type": "stream",
     "text": [
      "Walking    3907.0\n",
      "Cycling       2.4\n",
      "Name: 2015-04-01 00:00:00, dtype: float64\n"
     ]
    }
   ],
   "source": [
    "print(activity_df.iloc[-3])"
   ]
  },
  {
   "cell_type": "code",
   "execution_count": 18,
   "metadata": {},
   "outputs": [
    {
     "name": "stdout",
     "output_type": "stream",
     "text": [
      "            Walking  Cycling\n",
      "2015-03-29     3620     10.7\n",
      "2015-03-30     7891      0.0\n",
      "2015-03-31     9761      NaN\n",
      "2015-04-01     3907      2.4\n",
      "2015-04-02     4330     15.3\n",
      "2015-04-03     5773     10.9\n"
     ]
    }
   ],
   "source": [
    "print(activity_df.iloc[::])"
   ]
  },
  {
   "cell_type": "code",
   "execution_count": 19,
   "metadata": {},
   "outputs": [
    {
     "name": "stdout",
     "output_type": "stream",
     "text": [
      "            Walking  Cycling\n",
      "2015-03-29     3620     10.7\n",
      "2015-03-30     7891      0.0\n",
      "2015-03-31     9761      NaN\n"
     ]
    }
   ],
   "source": [
    "print(activity_df.iloc[:3])"
   ]
  },
  {
   "cell_type": "code",
   "execution_count": 20,
   "metadata": {},
   "outputs": [
    {
     "name": "stdout",
     "output_type": "stream",
     "text": [
      "            Walking  Cycling\n",
      "2015-04-03     5773     10.9\n"
     ]
    }
   ],
   "source": [
    "print(activity_df.iloc[:4:-1])"
   ]
  },
  {
   "cell_type": "code",
   "execution_count": 21,
   "metadata": {},
   "outputs": [],
   "source": [
    "data = pd.read_csv('iris.csv')"
   ]
  },
  {
   "cell_type": "code",
   "execution_count": 22,
   "metadata": {},
   "outputs": [
    {
     "name": "stdout",
     "output_type": "stream",
     "text": [
      "     sepallength  sepalwidth  petallength  petalwidth           class\n",
      "0            5.1         3.5          1.4         0.2     Iris-setosa\n",
      "1            4.9         3.0          1.4         0.2     Iris-setosa\n",
      "2            4.7         3.2          1.3         0.2     Iris-setosa\n",
      "3            4.6         3.1          1.5         0.2     Iris-setosa\n",
      "4            5.0         3.6          1.4         0.2     Iris-setosa\n",
      "5            5.4         3.9          1.7         0.4     Iris-setosa\n",
      "6            4.6         3.4          1.4         0.3     Iris-setosa\n",
      "7            5.0         3.4          1.5         0.2     Iris-setosa\n",
      "8            4.4         2.9          1.4         0.2     Iris-setosa\n",
      "9            4.9         3.1          1.5         0.1     Iris-setosa\n",
      "10           5.4         3.7          1.5         0.2     Iris-setosa\n",
      "11           4.8         3.4          1.6         0.2     Iris-setosa\n",
      "12           4.8         3.0          1.4         0.1     Iris-setosa\n",
      "13           4.3         3.0          1.1         0.1     Iris-setosa\n",
      "14           5.8         4.0          1.2         0.2     Iris-setosa\n",
      "15           5.7         4.4          1.5         0.4     Iris-setosa\n",
      "16           5.4         3.9          1.3         0.4     Iris-setosa\n",
      "17           5.1         3.5          1.4         0.3     Iris-setosa\n",
      "18           5.7         3.8          1.7         0.3     Iris-setosa\n",
      "19           5.1         3.8          1.5         0.3     Iris-setosa\n",
      "20           5.4         3.4          1.7         0.2     Iris-setosa\n",
      "21           5.1         3.7          1.5         0.4     Iris-setosa\n",
      "22           4.6         3.6          1.0         0.2     Iris-setosa\n",
      "23           5.1         3.3          1.7         0.5     Iris-setosa\n",
      "24           4.8         3.4          1.9         0.2     Iris-setosa\n",
      "25           5.0         3.0          1.6         0.2     Iris-setosa\n",
      "26           5.0         3.4          1.6         0.4     Iris-setosa\n",
      "27           5.2         3.5          1.5         0.2     Iris-setosa\n",
      "28           5.2         3.4          1.4         0.2     Iris-setosa\n",
      "29           4.7         3.2          1.6         0.2     Iris-setosa\n",
      "..           ...         ...          ...         ...             ...\n",
      "120          6.9         3.2          5.7         2.3  Iris-virginica\n",
      "121          5.6         2.8          4.9         2.0  Iris-virginica\n",
      "122          7.7         2.8          6.7         2.0  Iris-virginica\n",
      "123          6.3         2.7          4.9         1.8  Iris-virginica\n",
      "124          6.7         3.3          5.7         2.1  Iris-virginica\n",
      "125          7.2         3.2          6.0         1.8  Iris-virginica\n",
      "126          6.2         2.8          4.8         1.8  Iris-virginica\n",
      "127          6.1         3.0          4.9         1.8  Iris-virginica\n",
      "128          6.4         2.8          5.6         2.1  Iris-virginica\n",
      "129          7.2         3.0          5.8         1.6  Iris-virginica\n",
      "130          7.4         2.8          6.1         1.9  Iris-virginica\n",
      "131          7.9         3.8          6.4         2.0  Iris-virginica\n",
      "132          6.4         2.8          5.6         2.2  Iris-virginica\n",
      "133          6.3         2.8          5.1         1.5  Iris-virginica\n",
      "134          6.1         2.6          5.6         1.4  Iris-virginica\n",
      "135          7.7         3.0          6.1         2.3  Iris-virginica\n",
      "136          6.3         3.4          5.6         2.4  Iris-virginica\n",
      "137          6.4         3.1          5.5         1.8  Iris-virginica\n",
      "138          6.0         3.0          4.8         1.8  Iris-virginica\n",
      "139          6.9         3.1          5.4         2.1  Iris-virginica\n",
      "140          6.7         3.1          5.6         2.4  Iris-virginica\n",
      "141          6.9         3.1          5.1         2.3  Iris-virginica\n",
      "142          5.8         2.7          5.1         1.9  Iris-virginica\n",
      "143          6.8         3.2          5.9         2.3  Iris-virginica\n",
      "144          6.7         3.3          5.7         2.5  Iris-virginica\n",
      "145          6.7         3.0          5.2         2.3  Iris-virginica\n",
      "146          6.3         2.5          5.0         1.9  Iris-virginica\n",
      "147          6.5         3.0          5.2         2.0  Iris-virginica\n",
      "148          6.2         3.4          5.4         2.3  Iris-virginica\n",
      "149          5.9         3.0          5.1         1.8  Iris-virginica\n",
      "\n",
      "[150 rows x 5 columns]\n"
     ]
    }
   ],
   "source": [
    "print(data)"
   ]
  },
  {
   "cell_type": "code",
   "execution_count": 23,
   "metadata": {},
   "outputs": [],
   "source": [
    "data['iris_area'] = data.sepallength * data.sepalwidth"
   ]
  },
  {
   "cell_type": "code",
   "execution_count": 24,
   "metadata": {},
   "outputs": [
    {
     "data": {
      "text/plain": [
       "Index(['sepallength', 'sepalwidth', 'petallength', 'petalwidth', 'class',\n",
       "       'iris_area'],\n",
       "      dtype='object')"
      ]
     },
     "execution_count": 24,
     "metadata": {},
     "output_type": "execute_result"
    }
   ],
   "source": [
    "data.columns"
   ]
  },
  {
   "cell_type": "code",
   "execution_count": 25,
   "metadata": {},
   "outputs": [
    {
     "name": "stdout",
     "output_type": "stream",
     "text": [
      "     petalwidth           class  iris_area\n",
      "5           0.4     Iris-setosa      21.06\n",
      "6           0.3     Iris-setosa      15.64\n",
      "7           0.2     Iris-setosa      17.00\n",
      "8           0.2     Iris-setosa      12.76\n",
      "9           0.1     Iris-setosa      15.19\n",
      "10          0.2     Iris-setosa      19.98\n",
      "11          0.2     Iris-setosa      16.32\n",
      "12          0.1     Iris-setosa      14.40\n",
      "13          0.1     Iris-setosa      12.90\n",
      "14          0.2     Iris-setosa      23.20\n",
      "15          0.4     Iris-setosa      25.08\n",
      "16          0.4     Iris-setosa      21.06\n",
      "17          0.3     Iris-setosa      17.85\n",
      "18          0.3     Iris-setosa      21.66\n",
      "19          0.3     Iris-setosa      19.38\n",
      "20          0.2     Iris-setosa      18.36\n",
      "21          0.4     Iris-setosa      18.87\n",
      "22          0.2     Iris-setosa      16.56\n",
      "23          0.5     Iris-setosa      16.83\n",
      "24          0.2     Iris-setosa      16.32\n",
      "25          0.2     Iris-setosa      15.00\n",
      "26          0.4     Iris-setosa      17.00\n",
      "27          0.2     Iris-setosa      18.20\n",
      "28          0.2     Iris-setosa      17.68\n",
      "29          0.2     Iris-setosa      15.04\n",
      "30          0.2     Iris-setosa      14.88\n",
      "31          0.4     Iris-setosa      18.36\n",
      "32          0.1     Iris-setosa      21.32\n",
      "33          0.2     Iris-setosa      23.10\n",
      "34          0.1     Iris-setosa      15.19\n",
      "..          ...             ...        ...\n",
      "120         2.3  Iris-virginica      22.08\n",
      "121         2.0  Iris-virginica      15.68\n",
      "122         2.0  Iris-virginica      21.56\n",
      "123         1.8  Iris-virginica      17.01\n",
      "124         2.1  Iris-virginica      22.11\n",
      "125         1.8  Iris-virginica      23.04\n",
      "126         1.8  Iris-virginica      17.36\n",
      "127         1.8  Iris-virginica      18.30\n",
      "128         2.1  Iris-virginica      17.92\n",
      "129         1.6  Iris-virginica      21.60\n",
      "130         1.9  Iris-virginica      20.72\n",
      "131         2.0  Iris-virginica      30.02\n",
      "132         2.2  Iris-virginica      17.92\n",
      "133         1.5  Iris-virginica      17.64\n",
      "134         1.4  Iris-virginica      15.86\n",
      "135         2.3  Iris-virginica      23.10\n",
      "136         2.4  Iris-virginica      21.42\n",
      "137         1.8  Iris-virginica      19.84\n",
      "138         1.8  Iris-virginica      18.00\n",
      "139         2.1  Iris-virginica      21.39\n",
      "140         2.4  Iris-virginica      20.77\n",
      "141         2.3  Iris-virginica      21.39\n",
      "142         1.9  Iris-virginica      15.66\n",
      "143         2.3  Iris-virginica      21.76\n",
      "144         2.5  Iris-virginica      22.11\n",
      "145         2.3  Iris-virginica      20.10\n",
      "146         1.9  Iris-virginica      15.75\n",
      "147         2.0  Iris-virginica      19.50\n",
      "148         2.3  Iris-virginica      21.08\n",
      "149         1.8  Iris-virginica      17.70\n",
      "\n",
      "[145 rows x 3 columns]\n"
     ]
    }
   ],
   "source": [
    "print(data.iloc[5:,-3:])"
   ]
  },
  {
   "cell_type": "code",
   "execution_count": 26,
   "metadata": {},
   "outputs": [],
   "source": [
    "data['abbrev'] = (data['class'].apply(lambda x:x.replace('Iris-','')))"
   ]
  },
  {
   "cell_type": "code",
   "execution_count": 27,
   "metadata": {},
   "outputs": [
    {
     "data": {
      "text/plain": [
       "Index(['sepallength', 'sepalwidth', 'petallength', 'petalwidth', 'class',\n",
       "       'iris_area', 'abbrev'],\n",
       "      dtype='object')"
      ]
     },
     "execution_count": 27,
     "metadata": {},
     "output_type": "execute_result"
    }
   ],
   "source": [
    "data.columns"
   ]
  },
  {
   "cell_type": "code",
   "execution_count": 28,
   "metadata": {},
   "outputs": [
    {
     "name": "stdout",
     "output_type": "stream",
     "text": [
      "              class  iris_area     abbrev\n",
      "5       Iris-setosa      21.06     setosa\n",
      "6       Iris-setosa      15.64     setosa\n",
      "7       Iris-setosa      17.00     setosa\n",
      "8       Iris-setosa      12.76     setosa\n",
      "9       Iris-setosa      15.19     setosa\n",
      "10      Iris-setosa      19.98     setosa\n",
      "11      Iris-setosa      16.32     setosa\n",
      "12      Iris-setosa      14.40     setosa\n",
      "13      Iris-setosa      12.90     setosa\n",
      "14      Iris-setosa      23.20     setosa\n",
      "15      Iris-setosa      25.08     setosa\n",
      "16      Iris-setosa      21.06     setosa\n",
      "17      Iris-setosa      17.85     setosa\n",
      "18      Iris-setosa      21.66     setosa\n",
      "19      Iris-setosa      19.38     setosa\n",
      "20      Iris-setosa      18.36     setosa\n",
      "21      Iris-setosa      18.87     setosa\n",
      "22      Iris-setosa      16.56     setosa\n",
      "23      Iris-setosa      16.83     setosa\n",
      "24      Iris-setosa      16.32     setosa\n",
      "25      Iris-setosa      15.00     setosa\n",
      "26      Iris-setosa      17.00     setosa\n",
      "27      Iris-setosa      18.20     setosa\n",
      "28      Iris-setosa      17.68     setosa\n",
      "29      Iris-setosa      15.04     setosa\n",
      "30      Iris-setosa      14.88     setosa\n",
      "31      Iris-setosa      18.36     setosa\n",
      "32      Iris-setosa      21.32     setosa\n",
      "33      Iris-setosa      23.10     setosa\n",
      "34      Iris-setosa      15.19     setosa\n",
      "..              ...        ...        ...\n",
      "120  Iris-virginica      22.08  virginica\n",
      "121  Iris-virginica      15.68  virginica\n",
      "122  Iris-virginica      21.56  virginica\n",
      "123  Iris-virginica      17.01  virginica\n",
      "124  Iris-virginica      22.11  virginica\n",
      "125  Iris-virginica      23.04  virginica\n",
      "126  Iris-virginica      17.36  virginica\n",
      "127  Iris-virginica      18.30  virginica\n",
      "128  Iris-virginica      17.92  virginica\n",
      "129  Iris-virginica      21.60  virginica\n",
      "130  Iris-virginica      20.72  virginica\n",
      "131  Iris-virginica      30.02  virginica\n",
      "132  Iris-virginica      17.92  virginica\n",
      "133  Iris-virginica      17.64  virginica\n",
      "134  Iris-virginica      15.86  virginica\n",
      "135  Iris-virginica      23.10  virginica\n",
      "136  Iris-virginica      21.42  virginica\n",
      "137  Iris-virginica      19.84  virginica\n",
      "138  Iris-virginica      18.00  virginica\n",
      "139  Iris-virginica      21.39  virginica\n",
      "140  Iris-virginica      20.77  virginica\n",
      "141  Iris-virginica      21.39  virginica\n",
      "142  Iris-virginica      15.66  virginica\n",
      "143  Iris-virginica      21.76  virginica\n",
      "144  Iris-virginica      22.11  virginica\n",
      "145  Iris-virginica      20.10  virginica\n",
      "146  Iris-virginica      15.75  virginica\n",
      "147  Iris-virginica      19.50  virginica\n",
      "148  Iris-virginica      21.08  virginica\n",
      "149  Iris-virginica      17.70  virginica\n",
      "\n",
      "[145 rows x 3 columns]\n"
     ]
    }
   ],
   "source": [
    "print(data.iloc[5:,-3:])"
   ]
  },
  {
   "cell_type": "code",
   "execution_count": 29,
   "metadata": {},
   "outputs": [],
   "source": [
    "group_sizes = (data.groupby('class').size())"
   ]
  },
  {
   "cell_type": "code",
   "execution_count": 30,
   "metadata": {},
   "outputs": [
    {
     "name": "stdout",
     "output_type": "stream",
     "text": [
      "class\n",
      "Iris-setosa        50\n",
      "Iris-versicolor    50\n",
      "Iris-virginica     50\n",
      "dtype: int64\n"
     ]
    }
   ],
   "source": [
    "print(group_sizes)"
   ]
  },
  {
   "cell_type": "code",
   "execution_count": 31,
   "metadata": {},
   "outputs": [
    {
     "name": "stdout",
     "output_type": "stream",
     "text": [
      "sepallength     5.843333\n",
      "sepalwidth      3.054000\n",
      "petallength     3.758667\n",
      "petalwidth      1.198667\n",
      "iris_area      17.806533\n",
      "dtype: float64\n"
     ]
    }
   ],
   "source": [
    "print(data.mean())"
   ]
  },
  {
   "cell_type": "code",
   "execution_count": 32,
   "metadata": {},
   "outputs": [
    {
     "data": {
      "text/plain": [
       "4.35"
      ]
     },
     "execution_count": 32,
     "metadata": {},
     "output_type": "execute_result"
    }
   ],
   "source": [
    "data.petallength.median()"
   ]
  },
  {
   "cell_type": "code",
   "execution_count": 33,
   "metadata": {},
   "outputs": [
    {
     "data": {
      "text/plain": [
       "0    1.5\n",
       "dtype: float64"
      ]
     },
     "execution_count": 33,
     "metadata": {},
     "output_type": "execute_result"
    }
   ],
   "source": [
    "data.petallength.mode()"
   ]
  },
  {
   "cell_type": "code",
   "execution_count": 34,
   "metadata": {},
   "outputs": [
    {
     "name": "stdout",
     "output_type": "stream",
     "text": [
      "1.7644204199522617 3.1131794183445156 0.1440643240210084\n"
     ]
    }
   ],
   "source": [
    "print(data.petallength.std(),data.petallength.var(),data.petallength.sem())"
   ]
  },
  {
   "cell_type": "code",
   "execution_count": 35,
   "metadata": {},
   "outputs": [
    {
     "name": "stdout",
     "output_type": "stream",
     "text": [
      "       sepallength  sepalwidth  petallength  petalwidth   iris_area\n",
      "count   150.000000  150.000000   150.000000  150.000000  150.000000\n",
      "mean      5.843333    3.054000     3.758667    1.198667   17.806533\n",
      "std       0.828066    0.433594     1.764420    0.763161    3.368693\n",
      "min       4.300000    2.000000     1.000000    0.100000   10.000000\n",
      "25%       5.100000    2.800000     1.600000    0.300000   15.645000\n",
      "50%       5.800000    3.000000     4.350000    1.300000   17.660000\n",
      "75%       6.400000    3.300000     5.100000    1.800000   20.325000\n",
      "max       7.900000    4.400000     6.900000    2.500000   30.020000\n"
     ]
    }
   ],
   "source": [
    "print(data.describe())"
   ]
  }
 ],
 "metadata": {
  "kernelspec": {
   "display_name": "Python 3",
   "language": "python",
   "name": "python3"
  },
  "language_info": {
   "codemirror_mode": {
    "name": "ipython",
    "version": 3
   },
   "file_extension": ".py",
   "mimetype": "text/x-python",
   "name": "python",
   "nbconvert_exporter": "python",
   "pygments_lexer": "ipython3",
   "version": "3.7.6"
  }
 },
 "nbformat": 4,
 "nbformat_minor": 2
}
